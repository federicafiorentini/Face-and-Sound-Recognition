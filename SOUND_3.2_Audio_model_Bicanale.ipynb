{
 "cells": [
  {
   "cell_type": "markdown",
   "metadata": {},
   "source": [
    "## Importazione librerie"
   ]
  },
  {
   "cell_type": "code",
   "execution_count": 1,
   "metadata": {},
   "outputs": [
    {
     "name": "stderr",
     "output_type": "stream",
     "text": [
      "Using TensorFlow backend.\n"
     ]
    }
   ],
   "source": [
    "import os\n",
    "import librosa\n",
    "import numpy as np\n",
    "import matplotlib.pyplot as plt\n",
    "from matplotlib.pyplot import specgram\n",
    "import glob\n",
    "%matplotlib inline\n",
    "plt.style.use('ggplot')\n",
    "\n",
    "from sklearn.model_selection import train_test_split, GridSearchCV\n",
    "from sklearn.metrics import classification_report, confusion_matrix\n",
    "\n",
    "import sounddevice as sd\n",
    "\n",
    "import scipy\n",
    "from scipy.io import wavfile as wav\n",
    "\n",
    "from keras.models import Sequential\n",
    "from keras.layers import Dense, Dropout, Activation, Flatten\n",
    "from keras.layers import Convolution2D, MaxPooling2D\n",
    "from keras.optimizers import SGD, Adam\n",
    "from keras.callbacks import EarlyStopping, ModelCheckpoint\n",
    "from keras.utils import np_utils, to_categorical\n",
    "\n",
    "from sklearn import preprocessing"
   ]
  },
  {
   "cell_type": "markdown",
   "metadata": {},
   "source": [
    "## Definizione dei parametri"
   ]
  },
  {
   "cell_type": "code",
   "execution_count": 2,
   "metadata": {},
   "outputs": [],
   "source": [
    "parent_dir = os.getcwd() + '\\\\recordings'\n",
    "fold_names = os.listdir(parent_dir)\n",
    "sound_names = os.listdir(parent_dir)"
   ]
  },
  {
   "cell_type": "code",
   "execution_count": 3,
   "metadata": {},
   "outputs": [],
   "source": [
    "frames = 41\n",
    "bands = 60\n",
    "feature_size = bands * frames #60x41\n",
    "num_labels = 3\n",
    "num_channels = 2"
   ]
  },
  {
   "cell_type": "code",
   "execution_count": 4,
   "metadata": {},
   "outputs": [],
   "source": [
    "model_path = os.getcwd() + '\\\\audio_model_CNN_bicanale.h5'\n",
    "earlystop = EarlyStopping(monitor='val_loss', patience=3, verbose=0, mode='auto', restore_best_weights = True)\n",
    "modelcheckpoint = ModelCheckpoint(model_path, save_best_only = True)"
   ]
  },
  {
   "cell_type": "markdown",
   "metadata": {},
   "source": [
    "## Definizione delle funzioni da utilizzare"
   ]
  },
  {
   "cell_type": "code",
   "execution_count": 5,
   "metadata": {},
   "outputs": [],
   "source": [
    "#CREAZIONE X_FEATURE E Y PER IL MODELLO\n",
    "\n",
    "def windows(data, window_size):\n",
    "    start = 0\n",
    "    while start < len(data):\n",
    "        yield start, start + window_size\n",
    "        start += (window_size // 2)\n",
    "\n",
    "        \n",
    "    \n",
    "def parse_audio_files(parent_dir, file_ext='*.wav', bands=60, frames = 41):\n",
    "    \n",
    "    window_size = 512 * (frames - 1)\n",
    "    log_specgrams = []\n",
    "    labels = []    \n",
    "    \n",
    "    for cartella in os.listdir(parent_dir): \n",
    "        for fn in os.listdir(parent_dir + '\\\\' + cartella):\n",
    "            label = str(cartella)\n",
    "            file_name = parent_dir + '\\\\' + cartella + '\\\\' + fn\n",
    "            sound, sr = librosa.load(file_name)\n",
    "            for (start,end) in windows(sound,window_size):\n",
    "                if(len(sound[start:end]) == int(window_size)):\n",
    "                    signal = sound[start:end]\n",
    "                    labels = np.append(labels, label)\n",
    "                    melspec = librosa.feature.melspectrogram(signal, n_mels = bands)\n",
    "                    logspec = librosa.amplitude_to_db(melspec)\n",
    "                    logspec = logspec.T.flatten()[:, np.newaxis].T\n",
    "                    log_specgrams.append(logspec)\n",
    "    log_specgrams = np.asarray(log_specgrams).reshape(-1,bands,frames,1)\n",
    "                    \n",
    "    features = np.concatenate((log_specgrams, np.zeros(np.shape(log_specgrams))), axis = 3)\n",
    "    \n",
    "    for i in range(len(features)):\n",
    "        features[i, :, :, 1] = librosa.feature.delta(features[i, :, :, 0])\n",
    "    \n",
    "    return np.array(features), np.array(labels)\n",
    "\n"
   ]
  },
  {
   "cell_type": "code",
   "execution_count": 6,
   "metadata": {},
   "outputs": [],
   "source": [
    "def categorizer(y): \n",
    "    label = preprocessing.LabelEncoder()\n",
    "    categorical = label.fit_transform(y)\n",
    "    return categorical"
   ]
  },
  {
   "cell_type": "code",
   "execution_count": 7,
   "metadata": {},
   "outputs": [],
   "source": [
    "def build_model():\n",
    "    \n",
    "    model = Sequential()\n",
    "    \n",
    "    f_size = 1\n",
    "\n",
    "    model.add(Convolution2D(512, f_size, strides=f_size, kernel_initializer='normal', padding='same', input_shape=(bands, frames, num_channels)))\n",
    "    model.add(Convolution2D(256, f_size, strides=f_size, kernel_initializer='normal', padding='same'))\n",
    "    model.add(Activation('relu'))\n",
    "    model.add(MaxPooling2D(pool_size=(2, 2)))\n",
    "    model.add(Dropout(0.15))\n",
    "    \n",
    "    model.add(Convolution2D(128, f_size, strides=f_size, kernel_initializer='normal', padding='same'))\n",
    "    model.add(Convolution2D(64, f_size, strides=f_size, kernel_initializer='normal', padding='same'))\n",
    "    model.add(Activation('relu'))\n",
    "    model.add(MaxPooling2D(pool_size=(2, 2)))\n",
    "    model.add(Dropout(0.15))\n",
    "\n",
    "    model.add(Flatten())\n",
    "\n",
    "    model.add(Dense(32))\n",
    "    model.add(Activation('relu'))\n",
    "    model.add(Dropout(0.25))\n",
    "\n",
    "    model.add(Dense(num_labels))\n",
    "    model.add(Activation('softmax'))\n",
    "\n",
    "    adam = Adam(lr=0.0001)#, beta_1=0.9, beta_2=0.999, epsilon=1e-08, decay=0)\n",
    "    model.compile(loss='categorical_crossentropy', metrics=['accuracy'], optimizer=adam)\n",
    "    \n",
    "    return model"
   ]
  },
  {
   "cell_type": "markdown",
   "metadata": {},
   "source": [
    "## Modello"
   ]
  },
  {
   "cell_type": "code",
   "execution_count": 8,
   "metadata": {},
   "outputs": [],
   "source": [
    "X_feature, y = parse_audio_files(parent_dir)"
   ]
  },
  {
   "cell_type": "code",
   "execution_count": 9,
   "metadata": {},
   "outputs": [
    {
     "data": {
      "text/plain": [
       "array(['Federica', 'Giulia', 'Sconosciuto'], dtype='<U32')"
      ]
     },
     "execution_count": 9,
     "metadata": {},
     "output_type": "execute_result"
    }
   ],
   "source": [
    "np.unique(y)"
   ]
  },
  {
   "cell_type": "code",
   "execution_count": 10,
   "metadata": {},
   "outputs": [
    {
     "name": "stdout",
     "output_type": "stream",
     "text": [
      "2205 signals with 60 features each one.\n"
     ]
    }
   ],
   "source": [
    "print(\"{n_signals} signals with {n_features} features each one.\".format(n_signals = len(X_feature), n_features = len(X_feature[0])))"
   ]
  },
  {
   "cell_type": "code",
   "execution_count": 11,
   "metadata": {},
   "outputs": [
    {
     "data": {
      "text/plain": [
       "(array([0, 1, 2], dtype=int64), array([ 538,  505, 1162], dtype=int64))"
      ]
     },
     "execution_count": 11,
     "metadata": {},
     "output_type": "execute_result"
    }
   ],
   "source": [
    "y_train_cat = categorizer(y)\n",
    "np.unique(y_train_cat, return_counts = True)"
   ]
  },
  {
   "cell_type": "code",
   "execution_count": 12,
   "metadata": {},
   "outputs": [],
   "source": [
    "X_train, X_test, y_train, y_test = train_test_split(X_feature, y_train_cat, test_size=0.1, random_state=1)"
   ]
  },
  {
   "cell_type": "code",
   "execution_count": 13,
   "metadata": {},
   "outputs": [],
   "source": [
    "y_train_categorical = to_categorical(y_train)\n",
    "y_test_categorical = to_categorical(y_test)"
   ]
  },
  {
   "cell_type": "code",
   "execution_count": 14,
   "metadata": {},
   "outputs": [
    {
     "name": "stdout",
     "output_type": "stream",
     "text": [
      "Model: \"sequential_1\"\n",
      "_________________________________________________________________\n",
      "Layer (type)                 Output Shape              Param #   \n",
      "=================================================================\n",
      "conv2d_1 (Conv2D)            (None, 60, 41, 512)       1536      \n",
      "_________________________________________________________________\n",
      "conv2d_2 (Conv2D)            (None, 60, 41, 256)       131328    \n",
      "_________________________________________________________________\n",
      "activation_1 (Activation)    (None, 60, 41, 256)       0         \n",
      "_________________________________________________________________\n",
      "max_pooling2d_1 (MaxPooling2 (None, 30, 20, 256)       0         \n",
      "_________________________________________________________________\n",
      "dropout_1 (Dropout)          (None, 30, 20, 256)       0         \n",
      "_________________________________________________________________\n",
      "conv2d_3 (Conv2D)            (None, 30, 20, 128)       32896     \n",
      "_________________________________________________________________\n",
      "conv2d_4 (Conv2D)            (None, 30, 20, 64)        8256      \n",
      "_________________________________________________________________\n",
      "activation_2 (Activation)    (None, 30, 20, 64)        0         \n",
      "_________________________________________________________________\n",
      "max_pooling2d_2 (MaxPooling2 (None, 15, 10, 64)        0         \n",
      "_________________________________________________________________\n",
      "dropout_2 (Dropout)          (None, 15, 10, 64)        0         \n",
      "_________________________________________________________________\n",
      "flatten_1 (Flatten)          (None, 9600)              0         \n",
      "_________________________________________________________________\n",
      "dense_1 (Dense)              (None, 32)                307232    \n",
      "_________________________________________________________________\n",
      "activation_3 (Activation)    (None, 32)                0         \n",
      "_________________________________________________________________\n",
      "dropout_3 (Dropout)          (None, 32)                0         \n",
      "_________________________________________________________________\n",
      "dense_2 (Dense)              (None, 3)                 99        \n",
      "_________________________________________________________________\n",
      "activation_4 (Activation)    (None, 3)                 0         \n",
      "=================================================================\n",
      "Total params: 481,347\n",
      "Trainable params: 481,347\n",
      "Non-trainable params: 0\n",
      "_________________________________________________________________\n"
     ]
    }
   ],
   "source": [
    "model = build_model()\n",
    "model.summary()"
   ]
  },
  {
   "cell_type": "code",
   "execution_count": 15,
   "metadata": {},
   "outputs": [
    {
     "name": "stdout",
     "output_type": "stream",
     "text": [
      "Train on 1984 samples, validate on 221 samples\n",
      "Epoch 1/30\n",
      "1984/1984 [==============================] - 58s 29ms/step - loss: 0.7535 - accuracy: 0.6537 - val_loss: 0.4049 - val_accuracy: 0.8552\n",
      "Epoch 2/30\n",
      "1984/1984 [==============================] - 57s 29ms/step - loss: 0.3385 - accuracy: 0.8589 - val_loss: 0.2156 - val_accuracy: 0.9276\n",
      "Epoch 3/30\n",
      "1984/1984 [==============================] - 56s 28ms/step - loss: 0.1980 - accuracy: 0.9299 - val_loss: 0.1613 - val_accuracy: 0.9593\n",
      "Epoch 4/30\n",
      "1984/1984 [==============================] - 58s 29ms/step - loss: 0.1551 - accuracy: 0.9410 - val_loss: 0.1315 - val_accuracy: 0.9683\n",
      "Epoch 5/30\n",
      "1984/1984 [==============================] - 57s 29ms/step - loss: 0.1203 - accuracy: 0.9592 - val_loss: 0.1117 - val_accuracy: 0.9729\n",
      "Epoch 6/30\n",
      "1984/1984 [==============================] - 59s 30ms/step - loss: 0.0982 - accuracy: 0.9662 - val_loss: 0.0984 - val_accuracy: 0.9774\n",
      "Epoch 7/30\n",
      "1984/1984 [==============================] - 57s 29ms/step - loss: 0.0924 - accuracy: 0.9748 - val_loss: 0.0684 - val_accuracy: 0.9819\n",
      "Epoch 8/30\n",
      "1984/1984 [==============================] - 58s 29ms/step - loss: 0.0807 - accuracy: 0.9753 - val_loss: 0.0607 - val_accuracy: 0.9864\n",
      "Epoch 9/30\n",
      "1984/1984 [==============================] - 57s 29ms/step - loss: 0.0595 - accuracy: 0.9803 - val_loss: 0.0586 - val_accuracy: 0.9864\n",
      "Epoch 10/30\n",
      "1984/1984 [==============================] - 65s 33ms/step - loss: 0.0544 - accuracy: 0.9829 - val_loss: 0.0499 - val_accuracy: 0.9819\n",
      "Epoch 11/30\n",
      "1984/1984 [==============================] - 75s 38ms/step - loss: 0.0538 - accuracy: 0.9834 - val_loss: 0.0469 - val_accuracy: 0.9910\n",
      "Epoch 12/30\n",
      "1984/1984 [==============================] - 75s 38ms/step - loss: 0.0588 - accuracy: 0.9788 - val_loss: 0.0378 - val_accuracy: 0.9864\n",
      "Epoch 13/30\n",
      "1984/1984 [==============================] - 74s 37ms/step - loss: 0.0410 - accuracy: 0.9869 - val_loss: 0.0612 - val_accuracy: 0.9864\n",
      "Epoch 14/30\n",
      "1984/1984 [==============================] - 76s 38ms/step - loss: 0.0361 - accuracy: 0.9879 - val_loss: 0.0346 - val_accuracy: 0.9819\n",
      "Epoch 15/30\n",
      "1984/1984 [==============================] - 77s 39ms/step - loss: 0.0321 - accuracy: 0.9899 - val_loss: 0.0475 - val_accuracy: 0.9864\n",
      "Epoch 16/30\n",
      "1984/1984 [==============================] - 76s 38ms/step - loss: 0.0541 - accuracy: 0.9819 - val_loss: 0.0443 - val_accuracy: 0.9910\n",
      "Epoch 17/30\n",
      "1984/1984 [==============================] - 74s 37ms/step - loss: 0.0297 - accuracy: 0.9874 - val_loss: 0.0455 - val_accuracy: 0.9819\n"
     ]
    }
   ],
   "source": [
    "history = model.fit(X_train, y_train_categorical,\n",
    "                    validation_data=(X_test, y_test_categorical),\n",
    "                    batch_size=32,\n",
    "                    epochs=30,\n",
    "                    callbacks = [earlystop, modelcheckpoint])"
   ]
  },
  {
   "cell_type": "code",
   "execution_count": 16,
   "metadata": {},
   "outputs": [
    {
     "data": {
      "image/png": "[encoded data removed]",
      "text/plain": [
       "<Figure size 432x288 with 1 Axes>"
      ]
     },
     "metadata": {
      "needs_background": "light"
     },
     "output_type": "display_data"
    }
   ],
   "source": [
    "# loss function\n",
    "\n",
    "plt.plot(history.history['loss'])\n",
    "plt.plot(history.history['val_loss'])\n",
    "plt.title('model train vs validation loss')\n",
    "plt.ylabel('loss')\n",
    "plt.xlabel('epoch')\n",
    "plt.legend(['train', 'validation'], loc='upper right')\n",
    "\n",
    "plt.show()"
   ]
  },
  {
   "cell_type": "code",
   "execution_count": 17,
   "metadata": {},
   "outputs": [
    {
     "data": {
      "image/png": "[encoded data removed]",
      "text/plain": [
       "<Figure size 432x288 with 1 Axes>"
      ]
     },
     "metadata": {
      "needs_background": "light"
     },
     "output_type": "display_data"
    }
   ],
   "source": [
    "# accuracy\n",
    "\n",
    "plt.plot(history.history['accuracy'])\n",
    "plt.plot(history.history['val_accuracy'])\n",
    "plt.title('model train vs validation accuracy')\n",
    "plt.ylabel('accuracy')\n",
    "plt.xlabel('epoch')\n",
    "plt.legend(['train', 'validation'], loc='lower right')\n",
    "\n",
    "plt.show()"
   ]
  }
 ],
 "metadata": {
  "kernelspec": {
   "display_name": "Python [conda env:dsim]",
   "language": "python",
   "name": "conda-env-dsim-py"
  },
  "language_info": {
   "codemirror_mode": {
    "name": "ipython",
    "version": 3
   },
   "file_extension": ".py",
   "mimetype": "text/x-python",
   "name": "python",
   "nbconvert_exporter": "python",
   "pygments_lexer": "ipython3",
   "version": "3.7.4"
  }
 },
 "nbformat": 4,
 "nbformat_minor": 2
}
