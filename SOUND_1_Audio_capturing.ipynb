{
 "cells": [
  {
   "cell_type": "code",
   "execution_count": null,
   "metadata": {},
   "outputs": [],
   "source": [
    "import sounddevice as sd\n",
    "\n",
    "import scipy\n",
    "from scipy.io import wavfile as wav\n",
    "\n",
    "import os \n",
    "\n",
    "from pydub import AudioSegment\n",
    "from pydub.silence import split_on_silence\n",
    "from pydub.silence import detect_nonsilent"
   ]
  },
  {
   "cell_type": "code",
   "execution_count": null,
   "metadata": {},
   "outputs": [],
   "source": [
    "fs = 44100\n",
    "second = 50\n",
    "path = 'C://Users//FedericaFiorentini//Desktop//full_recordings//'"
   ]
  },
  {
   "cell_type": "code",
   "execution_count": null,
   "metadata": {},
   "outputs": [],
   "source": [
    "rec = sd.rec(int(second * fs), samplerate=fs, channels=1, blocking=True)\n",
    "sd.wait()\n",
    "wav.write(path + 'sconosciuto1_alexa.wav', fs, rec)"
   ]
  },
  {
   "cell_type": "code",
   "execution_count": null,
   "metadata": {},
   "outputs": [],
   "source": [
    "rec = sd.rec(int(second * fs), samplerate=fs, channels=1, blocking=True)\n",
    "sd.wait()\n",
    "wav.write(path + 'sconosciuto1_pescara.wav', fs, rec)"
   ]
  },
  {
   "cell_type": "code",
   "execution_count": null,
   "metadata": {},
   "outputs": [],
   "source": [
    "rec = sd.rec(int(second * fs), samplerate=fs, channels=1, blocking=True)\n",
    "sd.wait()\n",
    "wav.write(path + 'sconosciuto1_okgoogle.wav', fs, rec)"
   ]
  },
  {
   "cell_type": "code",
   "execution_count": null,
   "metadata": {},
   "outputs": [],
   "source": [
    "rec = sd.rec(int(second * fs), samplerate=fs, channels=1, blocking=True)\n",
    "sd.wait()\n",
    "wav.write(path + 'sconosciuto1_como.wav', fs, rec)"
   ]
  },
  {
   "cell_type": "code",
   "execution_count": null,
   "metadata": {},
   "outputs": [],
   "source": [
    "rec = sd.rec(int(second * fs), samplerate=fs, channels=1, blocking=True)\n",
    "sd.wait()\n",
    "wav.write(path + 'sconosciuto2_alexa.wav', fs, rec)"
   ]
  },
  {
   "cell_type": "code",
   "execution_count": null,
   "metadata": {},
   "outputs": [],
   "source": [
    "rec = sd.rec(int(second * fs), samplerate=fs, channels=1, blocking=True)\n",
    "sd.wait()\n",
    "wav.write(path + 'sconosciuto2_okgoogle.wav', fs, rec)"
   ]
  },
  {
   "cell_type": "code",
   "execution_count": null,
   "metadata": {},
   "outputs": [],
   "source": [
    "rec = sd.rec(int(second * fs), samplerate=fs, channels=1, blocking=True)\n",
    "sd.wait()\n",
    "wav.write(path + 'sconosciuto2_como.wav', fs, rec)"
   ]
  },
  {
   "cell_type": "code",
   "execution_count": null,
   "metadata": {},
   "outputs": [],
   "source": [
    "rec = sd.rec(int(second * fs), samplerate=fs, channels=1, blocking=True)\n",
    "sd.wait()\n",
    "wav.write(path + 'sconosciuto2_pescara.wav', fs, rec)"
   ]
  },
  {
   "cell_type": "code",
   "execution_count": null,
   "metadata": {},
   "outputs": [],
   "source": [
    "second = 100"
   ]
  },
  {
   "cell_type": "code",
   "execution_count": null,
   "metadata": {},
   "outputs": [],
   "source": [
    "rec = sd.rec(int(second * fs), samplerate=fs, channels=1, blocking=True)\n",
    "sd.wait()\n",
    "wav.write(path + 'federica_alexa.wav', fs, rec)"
   ]
  },
  {
   "cell_type": "code",
   "execution_count": null,
   "metadata": {},
   "outputs": [],
   "source": [
    "rec = sd.rec(int(second * fs), samplerate=fs, channels=1, blocking=True)\n",
    "sd.wait()\n",
    "wav.write(path + 'federica_okgoogle.wav', fs, rec)"
   ]
  },
  {
   "cell_type": "code",
   "execution_count": null,
   "metadata": {},
   "outputs": [],
   "source": [
    "rec = sd.rec(int(second * fs), samplerate=fs, channels=1, blocking=True)\n",
    "sd.wait()\n",
    "wav.write(path + 'federica_pescara.wav', fs, rec)"
   ]
  },
  {
   "cell_type": "code",
   "execution_count": null,
   "metadata": {},
   "outputs": [],
   "source": [
    "rec = sd.rec(int(second * fs), samplerate=fs, channels=1, blocking=True)\n",
    "sd.wait()\n",
    "wav.write(path + 'federica_como.wav', fs, rec)"
   ]
  },
  {
   "cell_type": "code",
   "execution_count": null,
   "metadata": {},
   "outputs": [],
   "source": [
    "rec = sd.rec(int(second * fs), samplerate=fs, channels=1, blocking=True)\n",
    "sd.wait()\n",
    "wav.write(path + 'giulia_okgoogle.wav', fs, rec)"
   ]
  },
  {
   "cell_type": "code",
   "execution_count": null,
   "metadata": {},
   "outputs": [],
   "source": [
    "rec = sd.rec(int(second * fs), samplerate=fs, channels=1, blocking=True)\n",
    "sd.wait()\n",
    "wav.write(path + 'giulia_alexa.wav', fs, rec)"
   ]
  },
  {
   "cell_type": "code",
   "execution_count": null,
   "metadata": {},
   "outputs": [],
   "source": [
    "rec = sd.rec(int(second * fs), samplerate=fs, channels=1, blocking=True)\n",
    "sd.wait()\n",
    "wav.write(path + 'giulia_como.wav', fs, rec)"
   ]
  },
  {
   "cell_type": "code",
   "execution_count": null,
   "metadata": {},
   "outputs": [],
   "source": [
    "rec = sd.rec(int(second * fs), samplerate=fs, channels=1, blocking=True)\n",
    "sd.wait()\n",
    "wav.write(path + 'giulia_pescara.wav', fs, rec)"
   ]
  },
  {
   "cell_type": "code",
   "execution_count": null,
   "metadata": {},
   "outputs": [],
   "source": [
    "filename = ['giulia_pescara', 'giulia_como', 'giulia_okgoogle', 'giulia_alexa',\n",
    "            'federica_pescara', 'federica_como', 'federica_okgoogle', 'federica_alexa',\n",
    "           'sconosciuto1_pescara', 'sconosciuto1_como', 'sconosciuto1_okgoogle', 'sconosciuto1_alexa',\n",
    "           'sconosciuto2_pescara', 'sconosciuto2_como', 'sconosciuto2_okgoogle', 'sconosciuto2_alexa']\n"
   ]
  },
  {
   "cell_type": "markdown",
   "metadata": {},
   "source": [
    "#### Split audio on silence"
   ]
  },
  {
   "cell_type": "code",
   "execution_count": null,
   "metadata": {},
   "outputs": [],
   "source": [
    "for file in filename: \n",
    "    file_path = 'C://Users//FedericaFiorentini//Desktop//full_recordings//' + file + '.wav'\n",
    "    rec = AudioSegment.from_wav(file_path)\n",
    "    chunks = split_on_silence (rec, min_silence_len = 200, silence_thresh = -70)\n",
    "\n",
    "    for i, chunk in enumerate(chunks):\n",
    "        audio_chunk = chunk\n",
    "        print(\"Exporting chunk{0}.wav.\".format(i))\n",
    "        audio_chunk.export('C://Users//FedericaFiorentini//Desktop' + '//'+ file + str(i) + '.wav', \n",
    "                                bitrate = \"300k\",\n",
    "                                format = \"wav\")"
   ]
  }
 ],
 "metadata": {
  "kernelspec": {
   "display_name": "Python [conda env:dsim] *",
   "language": "python",
   "name": "conda-env-dsim-py"
  },
  "language_info": {
   "codemirror_mode": {
    "name": "ipython",
    "version": 3
   },
   "file_extension": ".py",
   "mimetype": "text/x-python",
   "name": "python",
   "nbconvert_exporter": "python",
   "pygments_lexer": "ipython3",
   "version": "3.7.4"
  }
 },
 "nbformat": 4,
 "nbformat_minor": 2
}
