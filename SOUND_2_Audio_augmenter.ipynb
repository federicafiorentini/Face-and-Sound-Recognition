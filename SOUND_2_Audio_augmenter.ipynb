{
 "cells": [
  {
   "cell_type": "code",
   "execution_count": null,
   "metadata": {},
   "outputs": [],
   "source": [
    "import os\n",
    "import librosa\n",
    "\n",
    "from scipy.io import wavfile as wav\n",
    "\n",
    "import nlpaug\n",
    "import nlpaug.augmenter.audio as naa\n"
   ]
  },
  {
   "cell_type": "markdown",
   "metadata": {},
   "source": [
    "### Audio augmentation"
   ]
  },
  {
   "cell_type": "code",
   "execution_count": null,
   "metadata": {},
   "outputs": [],
   "source": [
    "def cropper(audio): \n",
    "    cropped = naa.CropAug(sampling_rate = sr).augment(audio)\n",
    "    return cropped"
   ]
  },
  {
   "cell_type": "code",
   "execution_count": null,
   "metadata": {},
   "outputs": [],
   "source": [
    "def noiser(audio): \n",
    "    noised = naa.NoiseAug(noise_factor = 0.3).augment(audio)\n",
    "    return noised"
   ]
  },
  {
   "cell_type": "code",
   "execution_count": null,
   "metadata": {},
   "outputs": [],
   "source": [
    "def speeder(audio): \n",
    "    speeded = naa.SpeedAug().augment(audio)\n",
    "    return speeded"
   ]
  },
  {
   "cell_type": "code",
   "execution_count": null,
   "metadata": {},
   "outputs": [],
   "source": [
    "def vtlp(audio): \n",
    "    vtlp_data = naa.VtlpAug(sampling_rate = sr).augment(audio)\n",
    "    return vtlp_data"
   ]
  },
  {
   "cell_type": "code",
   "execution_count": null,
   "metadata": {},
   "outputs": [],
   "source": [
    "path = \"C://Users//FedericaFiorentini//Desktop//recordings\"\n",
    "    \n",
    "for cartella in os.listdir(path):\n",
    "    for au, a in enumerate(sorted(os.listdir(path + '\\\\' + cartella))) :\n",
    "        audio_path = path + \"\\\\\" + cartella + '\\\\' + a\n",
    "        audio, sr = librosa.load(audio_path, sr = 44100)\n",
    "        cropped = cropper(audio)\n",
    "        noised = noiser(audio)\n",
    "        speeded = speeder(audio)\n",
    "        vtlp_data = vtlp(audio)\n",
    "    \n",
    "        wav.write(path +  \"\\\\\" + cartella + \"\\\\cropped_\" + a, 44100, cropped)\n",
    "        wav.write(path + \"\\\\\" + cartella + \"\\\\noised_\" + a, 44100, noised)\n",
    "        wav.write(path + \"\\\\\" + cartella + \"\\\\speeded_\" + a, 44100, speeded)\n",
    "        wav.write(path + \"\\\\\" + cartella +\"\\\\vtlp_data_\" + a, 44100, vtlp_data)"
   ]
  }
 ],
 "metadata": {
  "kernelspec": {
   "display_name": "Python [conda env:dsim] *",
   "language": "python",
   "name": "conda-env-dsim-py"
  },
  "language_info": {
   "codemirror_mode": {
    "name": "ipython",
    "version": 3
   },
   "file_extension": ".py",
   "mimetype": "text/x-python",
   "name": "python",
   "nbconvert_exporter": "python",
   "pygments_lexer": "ipython3",
   "version": "3.7.4"
  }
 },
 "nbformat": 4,
 "nbformat_minor": 2
}
