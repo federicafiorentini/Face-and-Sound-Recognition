{
 "cells": [
  {
   "cell_type": "code",
   "execution_count": null,
   "metadata": {},
   "outputs": [],
   "source": [
    "import cv2\n",
    "import time"
   ]
  },
  {
   "cell_type": "code",
   "execution_count": null,
   "metadata": {},
   "outputs": [],
   "source": [
    "cpt = 0 \n",
    "maxFrames = 350 \n",
    "\n",
    "base_path='C:\\\\Users\\\\GiuliaChiaretti\\\\Desktop\\\\'\n",
    "person = ['Federica','Giulia']\n"
   ]
  },
  {
   "cell_type": "markdown",
   "metadata": {},
   "source": [
    "### Capturing 350 images of person 1"
   ]
  },
  {
   "cell_type": "code",
   "execution_count": null,
   "metadata": {},
   "outputs": [],
   "source": [
    "\n",
    "try:\n",
    "    vidStream = cv2.VideoCapture(0)\n",
    "    vidStream.set(cv2.CAP_PROP_FRAME_WIDTH, 2560)\n",
    "    vidStream.set(cv2.CAP_PROP_FRAME_HEIGHT, 1440)\n",
    "    \n",
    "except:\n",
    "    print (\"problem opening input stream\")\n",
    "    sys.exit(1)\n",
    "\n",
    "    \n",
    "while cpt < maxFrames:\n",
    "    index = cpt +200 \n",
    "    ret, frame = vidStream.read()\n",
    "    time.sleep(1)\n",
    "    # read frame and return code.\n",
    "    if not ret: \n",
    "        sys.exit(0)\n",
    "    \n",
    "    cv2.imwrite(base_path + str(person[0]) + \"\\\\federica_image%04i.jpg\"%index, frame)\n",
    "    cpt += 1"
   ]
  },
  {
   "cell_type": "markdown",
   "metadata": {},
   "source": [
    "### Capturing 350 images of person 2"
   ]
  },
  {
   "cell_type": "code",
   "execution_count": null,
   "metadata": {},
   "outputs": [],
   "source": [
    "try:\n",
    "    vidStream = cv2.VideoCapture(0)\n",
    "    vidStream.set(cv2.CAP_PROP_FRAME_WIDTH, 2560)\n",
    "    vidStream.set(cv2.CAP_PROP_FRAME_HEIGHT, 1440)\n",
    "    \n",
    "except:\n",
    "    print (\"problem opening input stream\")\n",
    "    sys.exit(1)\n",
    "\n",
    "    \n",
    "while cpt < maxFrames:\n",
    "    index = cpt +200 \n",
    "    ret, frame = vidStream.read()\n",
    "    time.sleep(1)\n",
    "    # read frame and return code.\n",
    "    if not ret: \n",
    "        sys.exit(0)\n",
    "    \n",
    "    cv2.imwrite(base_path + str(person[1]) + \"\\\\giulia_image%04i.jpg\"%index, frame)\n",
    "    cpt += 1"
   ]
  }
 ],
 "metadata": {
  "kernelspec": {
   "display_name": "Python [conda env:dsim]",
   "language": "python",
   "name": "conda-env-dsim-py"
  },
  "language_info": {
   "codemirror_mode": {
    "name": "ipython",
    "version": 3
   },
   "file_extension": ".py",
   "mimetype": "text/x-python",
   "name": "python",
   "nbconvert_exporter": "python",
   "pygments_lexer": "ipython3",
   "version": "3.7.4"
  }
 },
 "nbformat": 4,
 "nbformat_minor": 2
}
