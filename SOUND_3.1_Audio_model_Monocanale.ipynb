{
 "cells": [
  {
   "cell_type": "markdown",
   "metadata": {},
   "source": [
    "### Importazione delle librerie"
   ]
  },
  {
   "cell_type": "code",
   "execution_count": 1,
   "metadata": {},
   "outputs": [
    {
     "name": "stderr",
     "output_type": "stream",
     "text": [
      "Using TensorFlow backend.\n"
     ]
    }
   ],
   "source": [
    "import glob\n",
    "import os\n",
    "import librosa\n",
    "import numpy as np\n",
    "import matplotlib.pyplot as plt\n",
    "from matplotlib.pyplot import specgram\n",
    "%matplotlib inline\n",
    "plt.style.use('ggplot')\n",
    "\n",
    "np.set_printoptions(suppress=True)\n",
    "\n",
    "from sklearn.svm import SVC\n",
    "from sklearn.model_selection import train_test_split, GridSearchCV\n",
    "from sklearn.metrics import classification_report, confusion_matrix\n",
    "from sklearn import preprocessing\n",
    "\n",
    "from keras.utils import np_utils, to_categorical\n",
    "\n",
    "import sounddevice as sd\n",
    "import scipy\n",
    "from scipy.io import wavfile as wav\n",
    "\n",
    "import IPython.display as ipd\n",
    "\n",
    "import time\n",
    "\n",
    "from keras.models import Sequential\n",
    "from keras.layers import Dense, Dropout, Activation, Flatten\n",
    "from keras.layers import Convolution2D, MaxPooling2D\n",
    "from keras.optimizers import SGD, Adam\n",
    "from keras.callbacks import EarlyStopping, ModelCheckpoint\n",
    "from keras.utils import np_utils, to_categorical\n",
    "\n"
   ]
  },
  {
   "cell_type": "markdown",
   "metadata": {},
   "source": [
    "### Definizione delle funzioni"
   ]
  },
  {
   "cell_type": "code",
   "execution_count": 2,
   "metadata": {},
   "outputs": [],
   "source": [
    "#ESTRAZIONE DELLE FEATURE\n",
    "def extract_feature(X):\n",
    "    \n",
    "    X, sample_rate = librosa.load(X)\n",
    "    stft = np.abs(librosa.stft(X))\n",
    "    mfccs = np.mean(librosa.feature.mfcc(y=X, sr=sample_rate, n_mfcc=40).T,axis=0)\n",
    "    chroma = np.mean(librosa.feature.chroma_stft(S=stft, sr=sample_rate).T,axis=0)\n",
    "    mel = np.mean(librosa.feature.melspectrogram(X, sr=sample_rate).T,axis=0)\n",
    "    contrast = np.mean(librosa.feature.spectral_contrast(S=stft, sr=sample_rate).T,axis=0)\n",
    "    tonnetz = np.mean(librosa.feature.tonnetz(y=librosa.effects.harmonic(X), sr=sample_rate).T,axis=0)\n",
    "    \n",
    "    return mfccs,chroma,mel,contrast,tonnetz"
   ]
  },
  {
   "cell_type": "code",
   "execution_count": 3,
   "metadata": {},
   "outputs": [],
   "source": [
    "#CREAZIONE X_FEATURE E Y PER IL MODELLO\n",
    "def parse_audio_files(parent_dir, file_ext='*.wav'):\n",
    "    \n",
    "    features = []\n",
    "    labels = []\n",
    "    features, labels = np.empty((0,193)), np.empty(0)\n",
    "    \n",
    "    for cartella in os.listdir(parent_dir): \n",
    "        for fn in os.listdir(parent_dir + '\\\\' + cartella):\n",
    "            file_name = parent_dir + '\\\\' + cartella + '\\\\' + fn\n",
    "            try:\n",
    "                mfccs, chroma, mel, contrast, tonnetz = extract_feature(file_name)\n",
    "                ext_features = np.hstack([mfccs,chroma,mel,contrast,tonnetz])\n",
    "                features = np.vstack([features,ext_features])\n",
    "                label = str(cartella)\n",
    "                labels = np.append(labels, label)\n",
    "            except:\n",
    "                print(\"Error processing \" + fn + \" - skipping\")\n",
    "    return np.array(features), np.array(labels)\n",
    "    "
   ]
  },
  {
   "cell_type": "code",
   "execution_count": 4,
   "metadata": {},
   "outputs": [],
   "source": [
    "def categorizer(y): \n",
    "    label = preprocessing.LabelEncoder()\n",
    "    categorical = label.fit_transform(y)\n",
    "    return categorical"
   ]
  },
  {
   "cell_type": "code",
   "execution_count": 5,
   "metadata": {},
   "outputs": [],
   "source": [
    "def build_model():\n",
    "    model = Sequential()\n",
    "    # layer 1\n",
    "    model.add(Dense(1024, input_dim=n_dim, activation='relu'))\n",
    "    # layer 2\n",
    "    model.add(Dense(512, activation='relu'))\n",
    "    # dropout\n",
    "    model.add(Dropout(0.2))\n",
    "    # layer 3\n",
    "    model.add(Dense(128, activation='relu'))\n",
    "    # layer 4\n",
    "    model.add(Dense(32, activation='relu'))\n",
    "    # output layer\n",
    "    model.add(Dense(3, activation='softmax'))\n",
    "    \n",
    "    model.compile(loss='categorical_crossentropy', optimizer='Adam', metrics=['accuracy'])\n",
    "    \n",
    "    return model"
   ]
  },
  {
   "cell_type": "markdown",
   "metadata": {},
   "source": [
    "### Importazione dei dati e preparazione X_train, y_train, X_test, y_test"
   ]
  },
  {
   "cell_type": "code",
   "execution_count": 6,
   "metadata": {},
   "outputs": [],
   "source": [
    "parent_dir = 'C://Users//FedericaFiorentini//Desktop//recordings'\n",
    "fold_names = os.listdir(parent_dir)\n",
    "sound_names = os.listdir(parent_dir)"
   ]
  },
  {
   "cell_type": "code",
   "execution_count": 7,
   "metadata": {},
   "outputs": [],
   "source": [
    "X_feature, y = parse_audio_files(parent_dir)"
   ]
  },
  {
   "cell_type": "code",
   "execution_count": 8,
   "metadata": {},
   "outputs": [
    {
     "name": "stdout",
     "output_type": "stream",
     "text": [
      "3205 signals with 193 features each one.\n"
     ]
    }
   ],
   "source": [
    "print(\"{n_signals} signals with {n_features} features each one.\".format(n_signals = len(X_feature), n_features = len(X_feature[0])))"
   ]
  },
  {
   "cell_type": "code",
   "execution_count": 9,
   "metadata": {},
   "outputs": [
    {
     "data": {
      "text/plain": [
       "(array(['Federica', 'Giulia', 'Sconosciuto'], dtype='<U32'),\n",
       " array([ 950, 1000, 1255], dtype=int64))"
      ]
     },
     "execution_count": 9,
     "metadata": {},
     "output_type": "execute_result"
    }
   ],
   "source": [
    "np.unique(y, return_counts = True)"
   ]
  },
  {
   "cell_type": "code",
   "execution_count": 10,
   "metadata": {},
   "outputs": [],
   "source": [
    "y_label = categorizer(y)"
   ]
  },
  {
   "cell_type": "code",
   "execution_count": 11,
   "metadata": {},
   "outputs": [
    {
     "data": {
      "text/plain": [
       "(array([0, 1, 2], dtype=int64), array([ 950, 1000, 1255], dtype=int64))"
      ]
     },
     "execution_count": 11,
     "metadata": {},
     "output_type": "execute_result"
    }
   ],
   "source": [
    "np.unique(y_label, return_counts = True)"
   ]
  },
  {
   "cell_type": "code",
   "execution_count": 12,
   "metadata": {},
   "outputs": [],
   "source": [
    "X_train, X_test, y_train, y_test = train_test_split(X_feature, y_label, test_size=0.3, random_state=1)"
   ]
  },
  {
   "cell_type": "code",
   "execution_count": 13,
   "metadata": {},
   "outputs": [
    {
     "name": "stdout",
     "output_type": "stream",
     "text": [
      "y_train shape (2243, 3)\n",
      "y_test shape (962, 3)\n"
     ]
    }
   ],
   "source": [
    "y_train_categorical = to_categorical(y_train)\n",
    "y_test_categorical = to_categorical(y_test)\n",
    "\n",
    "print(\"y_train shape\", y_train_categorical.shape)\n",
    "print(\"y_test shape\", y_test_categorical.shape)"
   ]
  },
  {
   "cell_type": "code",
   "execution_count": 14,
   "metadata": {},
   "outputs": [
    {
     "name": "stdout",
     "output_type": "stream",
     "text": [
      "x_train shape (2243, 193)\n",
      "x_test shape (962, 193)\n"
     ]
    }
   ],
   "source": [
    "print(\"x_train shape\", X_train.shape)\n",
    "print(\"x_test shape\", X_test.shape)"
   ]
  },
  {
   "cell_type": "markdown",
   "metadata": {},
   "source": [
    "### Neural Network "
   ]
  },
  {
   "cell_type": "code",
   "execution_count": 15,
   "metadata": {},
   "outputs": [],
   "source": [
    "n_dim = X_train.shape[1]\n",
    "n_classes = 3\n",
    "init_type='normal'\n",
    "checkpoint_dir = \"model\""
   ]
  },
  {
   "cell_type": "code",
   "execution_count": 16,
   "metadata": {},
   "outputs": [],
   "source": [
    "# a stopping function to stop training before we excessively overfit to the training set\n",
    "earlystop = EarlyStopping(monitor='val_loss', patience=3, verbose=1, mode='auto')"
   ]
  },
  {
   "cell_type": "code",
   "execution_count": 17,
   "metadata": {},
   "outputs": [
    {
     "name": "stdout",
     "output_type": "stream",
     "text": [
      "Model: \"sequential_1\"\n",
      "_________________________________________________________________\n",
      "Layer (type)                 Output Shape              Param #   \n",
      "=================================================================\n",
      "dense_1 (Dense)              (None, 1024)              198656    \n",
      "_________________________________________________________________\n",
      "dense_2 (Dense)              (None, 512)               524800    \n",
      "_________________________________________________________________\n",
      "dropout_1 (Dropout)          (None, 512)               0         \n",
      "_________________________________________________________________\n",
      "dense_3 (Dense)              (None, 128)               65664     \n",
      "_________________________________________________________________\n",
      "dense_4 (Dense)              (None, 32)                4128      \n",
      "_________________________________________________________________\n",
      "dense_5 (Dense)              (None, 3)                 99        \n",
      "=================================================================\n",
      "Total params: 793,347\n",
      "Trainable params: 793,347\n",
      "Non-trainable params: 0\n",
      "_________________________________________________________________\n"
     ]
    }
   ],
   "source": [
    "model = build_model()\n",
    "model.summary()"
   ]
  },
  {
   "cell_type": "code",
   "execution_count": 18,
   "metadata": {},
   "outputs": [
    {
     "name": "stdout",
     "output_type": "stream",
     "text": [
      "Train on 2243 samples, validate on 962 samples\n",
      "Epoch 1/30\n",
      "2243/2243 [==============================] - 1s 652us/step - loss: 2.3633 - accuracy: 0.6973 - val_loss: 0.4424 - val_accuracy: 0.8503\n",
      "Epoch 2/30\n",
      "2243/2243 [==============================] - 1s 374us/step - loss: 0.2677 - accuracy: 0.9175 - val_loss: 0.2145 - val_accuracy: 0.9241\n",
      "Epoch 3/30\n",
      "2243/2243 [==============================] - 1s 386us/step - loss: 0.1640 - accuracy: 0.9452 - val_loss: 0.1389 - val_accuracy: 0.9449\n",
      "Epoch 4/30\n",
      "2243/2243 [==============================] - 1s 365us/step - loss: 0.0873 - accuracy: 0.9719 - val_loss: 0.0420 - val_accuracy: 0.9886\n",
      "Epoch 5/30\n",
      "2243/2243 [==============================] - 1s 350us/step - loss: 0.0571 - accuracy: 0.9804 - val_loss: 0.0668 - val_accuracy: 0.9709\n",
      "Epoch 6/30\n",
      "2243/2243 [==============================] - 1s 359us/step - loss: 0.0425 - accuracy: 0.9835 - val_loss: 0.0369 - val_accuracy: 0.9865\n",
      "Epoch 7/30\n",
      "2243/2243 [==============================] - 1s 350us/step - loss: 0.0439 - accuracy: 0.9853 - val_loss: 0.1451 - val_accuracy: 0.9376\n",
      "Epoch 8/30\n",
      "2243/2243 [==============================] - 1s 356us/step - loss: 0.0479 - accuracy: 0.9835 - val_loss: 0.0233 - val_accuracy: 0.9938\n",
      "Epoch 9/30\n",
      "2243/2243 [==============================] - 1s 352us/step - loss: 0.0346 - accuracy: 0.9915 - val_loss: 0.0226 - val_accuracy: 0.9948\n",
      "Epoch 10/30\n",
      "2243/2243 [==============================] - 1s 375us/step - loss: 0.0234 - accuracy: 0.9924 - val_loss: 0.0172 - val_accuracy: 0.9938\n",
      "Epoch 11/30\n",
      "2243/2243 [==============================] - 1s 351us/step - loss: 0.0195 - accuracy: 0.9933 - val_loss: 0.0345 - val_accuracy: 0.9854\n",
      "Epoch 12/30\n",
      "2243/2243 [==============================] - 1s 358us/step - loss: 0.0317 - accuracy: 0.9902 - val_loss: 0.0208 - val_accuracy: 0.9927\n",
      "Epoch 13/30\n",
      "2243/2243 [==============================] - 1s 351us/step - loss: 0.0229 - accuracy: 0.9924 - val_loss: 0.0189 - val_accuracy: 0.9938\n",
      "Epoch 00013: early stopping\n"
     ]
    }
   ],
   "source": [
    "history = model.fit(X_train, y_train_categorical,\n",
    "                    validation_data=(X_test, y_test_categorical),\n",
    "                    callbacks=[earlystop],\n",
    "                    epochs=30,\n",
    "                    batch_size=32)"
   ]
  },
  {
   "cell_type": "code",
   "execution_count": 19,
   "metadata": {},
   "outputs": [
    {
     "data": {
      "image/png": "[encoded data removed]",
      "text/plain": [
       "<Figure size 432x288 with 1 Axes>"
      ]
     },
     "metadata": {
      "needs_background": "light"
     },
     "output_type": "display_data"
    }
   ],
   "source": [
    "# loss function\n",
    "\n",
    "plt.plot(history.history['loss'])\n",
    "plt.plot(history.history['val_loss'])\n",
    "plt.title('model train vs validation loss')\n",
    "plt.ylabel('loss')\n",
    "plt.xlabel('epoch')\n",
    "plt.legend(['train', 'validation'], loc='upper right')\n",
    "\n",
    "plt.show()"
   ]
  },
  {
   "cell_type": "code",
   "execution_count": 20,
   "metadata": {},
   "outputs": [
    {
     "data": {
      "image/png": "[encoded data removed]",
      "text/plain": [
       "<Figure size 432x288 with 1 Axes>"
      ]
     },
     "metadata": {
      "needs_background": "light"
     },
     "output_type": "display_data"
    }
   ],
   "source": [
    "# accuracy\n",
    "\n",
    "plt.plot(history.history['accuracy'])\n",
    "plt.plot(history.history['val_accuracy'])\n",
    "plt.title('model train vs validation accuracy')\n",
    "plt.ylabel('accuracy')\n",
    "plt.xlabel('epoch')\n",
    "plt.legend(['train', 'validation'], loc='lower right')\n",
    "\n",
    "plt.show()"
   ]
  },
  {
   "cell_type": "markdown",
   "metadata": {},
   "source": [
    "### SVM"
   ]
  },
  {
   "cell_type": "code",
   "execution_count": 21,
   "metadata": {},
   "outputs": [],
   "source": [
    "param_grid = {'C': [50, 100, 250, 500, 750, 1000, 1250, 1500, 2500, 2750],\n",
    "              'gamma':[0.01, 0.05, 0.1, 0.15, 0.25, 0.5, 0.75, 1.0]}"
   ]
  },
  {
   "cell_type": "code",
   "execution_count": 22,
   "metadata": {},
   "outputs": [],
   "source": [
    "clf = GridSearchCV(SVC(kernel = \"rbf\", class_weight = \"balanced\"), param_grid = param_grid, cv = 2)\n"
   ]
  },
  {
   "cell_type": "code",
   "execution_count": 23,
   "metadata": {},
   "outputs": [],
   "source": [
    "model = clf.fit(X_train, y_train)"
   ]
  },
  {
   "cell_type": "code",
   "execution_count": 24,
   "metadata": {},
   "outputs": [
    {
     "name": "stdout",
     "output_type": "stream",
     "text": [
      "              precision    recall  f1-score   support\n",
      "\n",
      "           0       1.00      0.65      0.78       291\n",
      "           1       1.00      0.66      0.79       317\n",
      "           2       0.63      1.00      0.77       354\n",
      "\n",
      "    accuracy                           0.78       962\n",
      "   macro avg       0.88      0.77      0.78       962\n",
      "weighted avg       0.86      0.78      0.78       962\n",
      "\n"
     ]
    }
   ],
   "source": [
    "y_pred = clf.predict(X_test)\n",
    "print(classification_report(y_test, y_pred))"
   ]
  },
  {
   "cell_type": "markdown",
   "metadata": {},
   "source": [
    "### Salvataggio modello"
   ]
  },
  {
   "cell_type": "code",
   "execution_count": null,
   "metadata": {},
   "outputs": [],
   "source": [
    "model_path = os.getcwd() +  '\\\\audio_NN_model_monocanale.h5'\n",
    "model.save(model_path)"
   ]
  }
 ],
 "metadata": {
  "kernelspec": {
   "display_name": "Python [conda env:dsim]",
   "language": "python",
   "name": "conda-env-dsim-py"
  },
  "language_info": {
   "codemirror_mode": {
    "name": "ipython",
    "version": 3
   },
   "file_extension": ".py",
   "mimetype": "text/x-python",
   "name": "python",
   "nbconvert_exporter": "python",
   "pygments_lexer": "ipython3",
   "version": "3.7.4"
  }
 },
 "nbformat": 4,
 "nbformat_minor": 2
}
