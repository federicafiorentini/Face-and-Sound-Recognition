{
  "nbformat": 4,
  "nbformat_minor": 0,
  "metadata": {
    "colab": {
      "name": "2.Face_Augmentation_Recognition.ipynb",
      "provenance": []
    },
    "kernelspec": {
      "name": "python3",
      "display_name": "Python 3"
    },
    "accelerator": "GPU"
  },
  "cells": [
    {
      "cell_type": "code",
      "metadata": {
        "id": "RF_T_sExPdNj",
        "colab_type": "code",
        "colab": {}
      },
      "source": [
        "  ! pip install mtcnn"
      ],
      "execution_count": 0,
      "outputs": []
    },
    {
      "cell_type": "code",
      "metadata": {
        "id": "--j50u0EMgD5",
        "colab_type": "code",
        "colab": {}
      },
      "source": [
        "from google.colab import drive\n",
        "import os\n",
        "import tarfile\n",
        "from keras.preprocessing import image as kimage\n",
        "import matplotlib.pyplot as plt\n",
        "import cv2\n",
        "import numpy as np\n",
        "import mtcnn #face detector\n",
        "from PIL import Image\n",
        "from PIL import ImageOps #flip photo\n",
        "from tqdm import tqdm\n"
      ],
      "execution_count": 0,
      "outputs": []
    },
    {
      "cell_type": "code",
      "metadata": {
        "id": "GAPMbWuUku5D",
        "colab_type": "code",
        "colab": {}
      },
      "source": [
        "drive.mount('/content/drive', force_remount=True)"
      ],
      "execution_count": 0,
      "outputs": []
    },
    {
      "cell_type": "code",
      "metadata": {
        "id": "YX5R-Qwlk2-G",
        "colab_type": "code",
        "colab": {}
      },
      "source": [
        "tar= tarfile.open('/content/drive/My Drive/DSIM PROJECT/Face_Dataset.tar')\n",
        "tar.extractall()\n",
        "tar.close()"
      ],
      "execution_count": 0,
      "outputs": []
    },
    {
      "cell_type": "code",
      "metadata": {
        "id": "BxhnIssLsqrH",
        "colab_type": "code",
        "colab": {}
      },
      "source": [
        "base_path = '/content/Face_Dataset/'\n",
        "persone = os.listdir(base_path)\n",
        "faces_path = '/content/drive/My Drive/DSIM PROJECT/Face_Detected_Dataset/'"
      ],
      "execution_count": 0,
      "outputs": []
    },
    {
      "cell_type": "code",
      "metadata": {
        "id": "wmTLgKAkmVK7",
        "colab_type": "code",
        "colab": {}
      },
      "source": [
        "def augment_brightness_camera_images(image):\n",
        "    image1 = cv2.cvtColor(image,cv2.COLOR_RGB2HSV)\n",
        "    image1 = np.array(image1, dtype = np.float64)\n",
        "    random_bright = .5+np.random.uniform()\n",
        "    image1[:,:,2] = image1[:,:,2]*random_bright\n",
        "    image1[:,:,2][image1[:,:,2]>255]  = 255\n",
        "    image1 = np.array(image1, dtype = np.uint8)\n",
        "    image1 = cv2.cvtColor(image1,cv2.COLOR_HSV2RGB)\n",
        "    return image1"
      ],
      "execution_count": 0,
      "outputs": []
    },
    {
      "cell_type": "code",
      "metadata": {
        "id": "hijVhgUg6mTr",
        "colab_type": "code",
        "colab": {}
      },
      "source": [
        "def extract_face(filename, required_size=(256, 256)):\n",
        "  filename = Image.fromarray(filename)\n",
        "  foto = filename.convert('RGB')\n",
        "  # convert to array\n",
        "  pixels = np.asarray(foto)\n",
        "  # create the detector, using default weights\n",
        "  detector = mtcnn.MTCNN()\n",
        "  # detect faces in the image\n",
        "  results = detector.detect_faces(pixels)\n",
        "  if results != [] :\n",
        "     # extract the bounding box from the first face\n",
        "     x1, y1, width, height = results[0]['box']\n",
        "     # bug fix\n",
        "     x1, y1 = abs(x1), abs(y1)\n",
        "     x2, y2 = x1 + width, y1 + height\n",
        "     # extract the face\n",
        "     face = pixels[y1:y2, x1:x2]\n",
        "     # resize pixels to the model size\n",
        "     image = Image.fromarray(face)\n",
        "     image = image.resize(required_size)\n",
        "     face_array = np.asarray(image)\n",
        "  else:\n",
        "    face_array = pixels\n",
        "  return face_array"
      ],
      "execution_count": 0,
      "outputs": []
    },
    {
      "cell_type": "code",
      "metadata": {
        "id": "G7DI2DUYtItk",
        "colab_type": "code",
        "colab": {}
      },
      "source": [
        "for persona in tqdm(persone) :\n",
        "  persona_path = base_path + persona\n",
        "  path2 = faces_path + persona\n",
        "  for fi, f in tqdm(enumerate(sorted(os.listdir(persona_path)))) : \n",
        "    current_path = persona_path + '/' + f\n",
        "    img = cv2.imread(current_path)\n",
        "    aug = augment_brightness_camera_images(img)\n",
        "    flip = cv2.flip(img, 1)\n",
        "    face = extract_face(img)\n",
        "    face_aug = extract_face(aug)\n",
        "    face_flip = extract_face(flip)     \n",
        "\n",
        "    cv2.imwrite(path2 + '/' + f , face)\n",
        "    cv2.imwrite(path2 + '/bright' + f , face_aug)\n",
        "    cv2.imwrite(path2 + '/flip' + f , face_flip)\n"
      ],
      "execution_count": 0,
      "outputs": []
    }
  ]
}