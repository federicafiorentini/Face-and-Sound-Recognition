{
 "cells": [
  {
   "cell_type": "code",
   "execution_count": 7,
   "metadata": {},
   "outputs": [
    {
     "name": "stdout",
     "output_type": "stream",
     "text": [
      "Collecting git+https://github.com/rcmalli/keras-vggface.git\n",
      "  Cloning https://github.com/rcmalli/keras-vggface.git to c:\\users\\giulia~1\\appdata\\local\\temp\\pip-req-build-id0lnflw\n",
      "Requirement already satisfied (use --upgrade to upgrade): keras-vggface==0.6 from git+https://github.com/rcmalli/keras-vggface.git in c:\\tools\\anaconda3\\envs\\aml\\lib\\site-packages\n",
      "Requirement already satisfied: numpy>=1.9.1 in c:\\tools\\anaconda3\\envs\\aml\\lib\\site-packages (from keras-vggface==0.6) (1.16.5)\n",
      "Requirement already satisfied: scipy>=0.14 in c:\\tools\\anaconda3\\envs\\aml\\lib\\site-packages (from keras-vggface==0.6) (1.3.1)\n",
      "Requirement already satisfied: h5py in c:\\tools\\anaconda3\\envs\\aml\\lib\\site-packages (from keras-vggface==0.6) (2.8.0)\n",
      "Requirement already satisfied: pillow in c:\\tools\\anaconda3\\envs\\aml\\lib\\site-packages (from keras-vggface==0.6) (6.2.1)\n",
      "Requirement already satisfied: keras in c:\\tools\\anaconda3\\envs\\aml\\lib\\site-packages (from keras-vggface==0.6) (2.3.0)\n",
      "Requirement already satisfied: six>=1.9.0 in c:\\tools\\anaconda3\\envs\\aml\\lib\\site-packages (from keras-vggface==0.6) (1.12.0)\n",
      "Requirement already satisfied: pyyaml in c:\\tools\\anaconda3\\envs\\aml\\lib\\site-packages (from keras-vggface==0.6) (5.1.2)\n",
      "Requirement already satisfied: keras-applications>=1.0.6 in c:\\tools\\anaconda3\\envs\\aml\\lib\\site-packages (from keras->keras-vggface==0.6) (1.0.8)\n",
      "Requirement already satisfied: keras-preprocessing>=1.0.5 in c:\\tools\\anaconda3\\envs\\aml\\lib\\site-packages (from keras->keras-vggface==0.6) (1.1.0)\n",
      "Building wheels for collected packages: keras-vggface\n",
      "  Building wheel for keras-vggface (setup.py): started\n",
      "  Building wheel for keras-vggface (setup.py): finished with status 'done'\n",
      "  Created wheel for keras-vggface: filename=keras_vggface-0.6-cp37-none-any.whl size=8385 sha256=5e07c27e2bd803b89d663556079d892b0434b455be03dd7332e91ba0841c2ea9\n",
      "  Stored in directory: C:\\Users\\GIULIA~1\\AppData\\Local\\Temp\\pip-ephem-wheel-cache-xj5k5t4r\\wheels\\36\\07\\46\\06c25ce8e9cd396dabe151ea1d8a2bc28dafcb11321c1f3a6d\n",
      "Successfully built keras-vggface\n"
     ]
    },
    {
     "name": "stderr",
     "output_type": "stream",
     "text": [
      "  Running command git clone -q https://github.com/rcmalli/keras-vggface.git 'C:\\Users\\GIULIA~1\\AppData\\Local\\Temp\\pip-req-build-id0lnflw'\n"
     ]
    }
   ],
   "source": [
    "import os\n",
    "\n",
    "import numpy as np\n",
    "np.set_printoptions(suppress=True)\n",
    "\n",
    "from tqdm import tqdm\n",
    "\n",
    "from keras.models import Model\n",
    "from keras.preprocessing.image import load_img,img_to_array\n",
    "import tensorflow.keras.backend as K\n",
    "\n",
    "from sklearn.model_selection import StratifiedKFold\n",
    "from sklearn.svm import SVC\n",
    "from sklearn.model_selection import KFold, cross_val_score\n",
    "from sklearn.model_selection import GridSearchCV\n",
    "\n",
    "import pickle\n",
    "\n",
    "\n",
    "!pip install git+https://github.com/rcmalli/keras-vggface.git\n",
    "\n",
    "import keras_vggface\n",
    "from keras_vggface.vggface import VGGFace\n",
    "from keras_vggface.utils import preprocess_input\n",
    "from keras_vggface.utils import decode_predictions"
   ]
  },
  {
   "cell_type": "code",
   "execution_count": 4,
   "metadata": {},
   "outputs": [
    {
     "data": {
      "text/plain": [
       "['Altro', 'Federica', 'Giulia']"
      ]
     },
     "execution_count": 4,
     "metadata": {},
     "output_type": "execute_result"
    }
   ],
   "source": [
    "X_folder = 'C:/Users/GiuliaChiaretti/Desktop/Face_Detected_Dataset_3class'\n",
    "os.listdir(X_folder) "
   ]
  },
  {
   "cell_type": "markdown",
   "metadata": {},
   "source": [
    "### Creation X, y from folder"
   ]
  },
  {
   "cell_type": "code",
   "execution_count": 5,
   "metadata": {},
   "outputs": [
    {
     "name": "stderr",
     "output_type": "stream",
     "text": [
      "100%|██████████████████████████████████████████████████████████████████████████████| 1227/1227 [03:33<00:00,  5.75it/s]\n",
      "100%|██████████████████████████████████████████████████████████████████████████████| 1210/1210 [37:39<00:00,  1.87s/it]\n",
      "100%|██████████████████████████████████████████████████████████████████████████████| 1181/1181 [32:36<00:00,  1.66s/it]\n"
     ]
    }
   ],
   "source": [
    "X = []\n",
    "y= []\n",
    "person_rep = dict()\n",
    "person_folders = os.listdir(X_folder)\n",
    "\n",
    "for i, person in enumerate(person_folders):\n",
    "    person_rep[i] = person\n",
    "    image_names = os.listdir(X_folder + '/' + person + '/')\n",
    "    \n",
    "    for image_name in tqdm(image_names): \n",
    "        img = load_img(X_folder + '/' + person + '/'+ image_name, target_size=(224,224))\n",
    "        img = img_to_array(img)\n",
    "        img = np.expand_dims(img, axis = 0)\n",
    "\n",
    "        X.append(np.squeeze(K.eval(img)).tolist())\n",
    "        y.append(str(person))"
   ]
  },
  {
   "cell_type": "code",
   "execution_count": 6,
   "metadata": {},
   "outputs": [],
   "source": [
    "X=np.array(X).astype('float64')\n",
    "y=np.array(y)"
   ]
  },
  {
   "cell_type": "code",
   "execution_count": 14,
   "metadata": {},
   "outputs": [
    {
     "data": {
      "text/plain": [
       "array(['Altro', 'Federica', 'Giulia'], dtype='<U8')"
      ]
     },
     "execution_count": 14,
     "metadata": {},
     "output_type": "execute_result"
    }
   ],
   "source": [
    "np.unique(y)"
   ]
  },
  {
   "cell_type": "markdown",
   "metadata": {},
   "source": [
    "### Model feature extraction - vggface"
   ]
  },
  {
   "cell_type": "code",
   "execution_count": 8,
   "metadata": {},
   "outputs": [
    {
     "name": "stdout",
     "output_type": "stream",
     "text": [
      "WARNING:tensorflow:From C:\\tools\\Anaconda3\\envs\\AML\\lib\\site-packages\\keras\\backend\\tensorflow_backend.py:4070: The name tf.nn.max_pool is deprecated. Please use tf.nn.max_pool2d instead.\n",
      "\n",
      "WARNING:tensorflow:From C:\\tools\\Anaconda3\\envs\\AML\\lib\\site-packages\\keras\\backend\\tensorflow_backend.py:4074: The name tf.nn.avg_pool is deprecated. Please use tf.nn.avg_pool2d instead.\n",
      "\n"
     ]
    }
   ],
   "source": [
    "base_model = VGGFace(include_top = False, input_shape = (224, 224, 3), model='senet50')"
   ]
  },
  {
   "cell_type": "code",
   "execution_count": 9,
   "metadata": {},
   "outputs": [],
   "source": [
    "model = Model(inputs=base_model.input, outputs=base_model.get_layer(\"global_average_pooling2d_12\").output)"
   ]
  },
  {
   "cell_type": "code",
   "execution_count": 10,
   "metadata": {},
   "outputs": [],
   "source": [
    "X = preprocess_input(X,version=2)"
   ]
  },
  {
   "cell_type": "code",
   "execution_count": 11,
   "metadata": {},
   "outputs": [
    {
     "name": "stdout",
     "output_type": "stream",
     "text": [
      "WARNING:tensorflow:From C:\\tools\\Anaconda3\\envs\\AML\\lib\\site-packages\\keras\\backend\\tensorflow_backend.py:422: The name tf.global_variables is deprecated. Please use tf.compat.v1.global_variables instead.\n",
      "\n"
     ]
    }
   ],
   "source": [
    "X_feature = model.predict(X)"
   ]
  },
  {
   "cell_type": "code",
   "execution_count": 56,
   "metadata": {},
   "outputs": [
    {
     "data": {
      "text/plain": [
       "(3618, 1024)"
      ]
     },
     "execution_count": 56,
     "metadata": {},
     "output_type": "execute_result"
    }
   ],
   "source": [
    "X_feature.shape"
   ]
  },
  {
   "cell_type": "markdown",
   "metadata": {},
   "source": [
    "### SVM with 5 fold cross validation and HPO"
   ]
  },
  {
   "cell_type": "code",
   "execution_count": 57,
   "metadata": {},
   "outputs": [
    {
     "name": "stdout",
     "output_type": "stream",
     "text": [
      "Best parameter:\n",
      " C: 100.0\n",
      " gamma: 0.005\n"
     ]
    }
   ],
   "source": [
    "param_grid = {'C': [1e2, 5e2, 1e3], \n",
    "          'gamma': [0.005, 0.001, 0.01, 0.1, 0.5, 1.0], }\n",
    "\n",
    "clf = GridSearchCV(SVC(kernel='rbf', class_weight='balanced',probability=True), param_grid, scoring = 'accuracy', cv=5)\n",
    "\n",
    "clf = clf.fit(X_feature,y)\n",
    "\n",
    "print(\"Best parameter:\")\n",
    "print(\" C: \"+str(clf.best_estimator_.C))\n",
    "print(\" gamma: \"+str(clf.best_estimator_.gamma))"
   ]
  },
  {
   "cell_type": "code",
   "execution_count": 59,
   "metadata": {},
   "outputs": [
    {
     "data": {
      "text/plain": [
       "0.9997236042012161"
      ]
     },
     "execution_count": 59,
     "metadata": {},
     "output_type": "execute_result"
    }
   ],
   "source": [
    "clf.best_score_"
   ]
  },
  {
   "cell_type": "code",
   "execution_count": 60,
   "metadata": {
    "scrolled": true
   },
   "outputs": [],
   "source": [
    "#save model \n",
    "\n",
    "pickle.dump(clf,open( 'gridclf.sav', 'wb'))\n"
   ]
  }
 ],
 "metadata": {
  "kernelspec": {
   "display_name": "Python [conda env:aml] *",
   "language": "python",
   "name": "conda-env-aml-py"
  },
  "language_info": {
   "codemirror_mode": {
    "name": "ipython",
    "version": 3
   },
   "file_extension": ".py",
   "mimetype": "text/x-python",
   "name": "python",
   "nbconvert_exporter": "python",
   "pygments_lexer": "ipython3",
   "version": "3.7.4"
  }
 },
 "nbformat": 4,
 "nbformat_minor": 2
}
